{
 "cells": [
  {
   "cell_type": "code",
   "execution_count": 10,
   "metadata": {},
   "outputs": [],
   "source": [
    "import pandas as pd\n",
    "import numpy as np\n",
    "import tkinter as tk\n",
    "from tkinter import Menu"
   ]
  },
  {
   "cell_type": "code",
   "execution_count": 107,
   "metadata": {},
   "outputs": [],
   "source": [
    "calc = tk.Tk()\n",
    "calc.geometry(\"250x311\")\n",
    "calc.title(\"Калькулятор\")\n",
    "\n",
    "def menu(name):\n",
    "    menu = Menu(name)\n",
    "    menu.add_command(label='Вид')\n",
    "    menu.add_command(label='Правка')\n",
    "    menu.add_command(label='Справка')\n",
    "    return name.config(menu=menu)\n",
    "\n",
    "\n",
    "def label(name):\n",
    "    label = tk.Label()\n",
    "    entry = tk.Entry()\n",
    "    return entry\n",
    "\n",
    "\n",
    "# Создание кнопок\n",
    "def button(name,text):\n",
    "    button = tk.Button(text = text, width=6, height=3, bg=\"white\", fg=\"black\")\n",
    "    return button\n",
    "\n",
    "button(calc, 'C').place(x = 5, y = 30, width = 60)\n",
    "button(calc, '÷').place(x = 65, y = 30, width = 60)\n",
    "button(calc, 'x').place(x = 125, y = 30, width = 60)\n",
    "\n",
    "button(calc, '7').place(x = 5, y = 86, width = 60)\n",
    "button(calc, '8').place(x = 65, y = 86, width = 60)\n",
    "button(calc, '9').place(x = 125, y = 86, width = 60)\n",
    "\n",
    "button(calc, '4').place(x = 5, y = 142, width = 60)\n",
    "button(calc, '5').place(x = 65, y = 142, width = 60)\n",
    "button(calc, '6').place(x = 125, y = 142, width = 60)\n",
    "\n",
    "button(calc, '1').place(x = 5, y = 198, width = 60)\n",
    "button(calc, '2').place(x = 65, y = 198, width = 60)\n",
    "button(calc, '3').place(x = 125, y = 198, width = 60)\n",
    "\n",
    "button(calc, '%').place(x = 5, y = 254, width = 60)\n",
    "button(calc, '0').place(x = 65, y = 254, width = 60)\n",
    "button(calc, ',').place(x = 125, y = 254, width = 60)\n",
    "\n",
    "button(calc, '<').place(x = 185, y = 30, width = 60)\n",
    "button(calc, '-').place(x = 185, y = 86, width = 60)\n",
    "button(calc, '+').place(x = 185, y = 142, width = 60)\n",
    "button(calc, '=').place(x = 185, y = 198, width = 60)\n",
    "\n",
    "\n",
    "menu(calc)\n",
    "label(calc).grid(row = 1, column = 1)\n",
    "\n",
    "\n",
    "#label.pack()\n",
    "#entry.pack()\n",
    "calc.mainloop()"
   ]
  },
  {
   "cell_type": "code",
   "execution_count": null,
   "metadata": {},
   "outputs": [],
   "source": []
  },
  {
   "cell_type": "code",
   "execution_count": null,
   "metadata": {},
   "outputs": [],
   "source": []
  }
 ],
 "metadata": {
  "kernelspec": {
   "display_name": "Python 3",
   "language": "python",
   "name": "python3"
  },
  "language_info": {
   "codemirror_mode": {
    "name": "ipython",
    "version": 3
   },
   "file_extension": ".py",
   "mimetype": "text/x-python",
   "name": "python",
   "nbconvert_exporter": "python",
   "pygments_lexer": "ipython3",
   "version": "3.7.6"
  }
 },
 "nbformat": 4,
 "nbformat_minor": 4
}
